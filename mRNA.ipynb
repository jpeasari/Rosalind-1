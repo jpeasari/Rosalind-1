{
 "cells": [
  {
   "cell_type": "markdown",
   "metadata": {},
   "source": [
    "## Inferring mRNA from Protein\n",
    "http://rosalind.info/problems/mrna/"
   ]
  },
  {
   "cell_type": "code",
   "execution_count": 1,
   "metadata": {},
   "outputs": [
    {
     "name": "stdout",
     "output_type": "stream",
     "text": [
      "['M', 'A']\n",
      "1\n",
      "4\n",
      "12\n"
     ]
    }
   ],
   "source": [
    "codons = {'A':4,'R':6,'N':2,'D':2,'C':2,'Q':2,'E':2,'G':4,'H':2,'I':3,'L':6,'K':2,'M':1,'F':2,'P':4,'S':6,'T':4,'W':1,'Y':2,'V':4,'*':3}\n",
    "# print(len(dict))\n",
    "seq = \"MA\"\n",
    "\n",
    "sequence = list(seq) ## COnverting letter of sequnences to list\n",
    "print(sequence)\n",
    "counter = 1\n",
    "\n",
    "for i in sequence:\n",
    "    counter = codons[i] * counter\n",
    "    print(codons[i])\n",
    "\n",
    "total = counter * 3\n",
    "\n",
    "total = total % 1000000\n",
    "\n",
    "print(total)\n",
    "\n",
    "\n",
    "\n",
    "        "
   ]
  },
  {
   "cell_type": "code",
   "execution_count": null,
   "metadata": {},
   "outputs": [],
   "source": []
  }
 ],
 "metadata": {
  "kernelspec": {
   "display_name": "Python 3",
   "language": "python",
   "name": "python3"
  },
  "language_info": {
   "codemirror_mode": {
    "name": "ipython",
    "version": 3
   },
   "file_extension": ".py",
   "mimetype": "text/x-python",
   "name": "python",
   "nbconvert_exporter": "python",
   "pygments_lexer": "ipython3",
   "version": "3.7.6"
  }
 },
 "nbformat": 4,
 "nbformat_minor": 4
}
