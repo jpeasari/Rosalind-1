{
 "cells": [
  {
   "cell_type": "markdown",
   "metadata": {},
   "source": [
    "### Computing GC Content\n",
    "http://rosalind.info/problems/gc/"
   ]
  },
  {
   "cell_type": "code",
   "execution_count": 2,
   "metadata": {},
   "outputs": [
    {
     "name": "stdout",
     "output_type": "stream",
     "text": [
      "('>Rosalind_0808\\n', 60.91954022988506)\n"
     ]
    }
   ],
   "source": [
    "file = open('Nucleotides.txt', 'r')\n",
    "x = []\n",
    "seq = \"\"\n",
    "for line in file:\n",
    "    if line[0] == \">\" and seq == \"\":\n",
    "        header_line = line\n",
    "    elif line[0] != '>':\n",
    "        seq = seq + line.strip()\n",
    "    elif line[0] == '>' and seq != '':\n",
    "        cys_num = seq.count('C') + seq.count(\"G\")\n",
    "        GC_Content = cys_num / len(seq) * 100\n",
    "        x.append((header_line, GC_Content))\n",
    "        # print(header_line, ':',GC_Content)\n",
    "        header_line = line\n",
    "        seq = ''\n",
    "cys_num = seq.count('C') + seq.count(\"G\")\n",
    "GC_Content = cys_num / len(seq) * 100\n",
    "x.append((header_line, GC_Content))\n",
    "# print(header_line, ':',GC_Content)\n",
    "x.sort()\n",
    "print(x[0])"
   ]
  },
  {
   "cell_type": "code",
   "execution_count": 6,
   "metadata": {},
   "outputs": [],
   "source": [
    "## Graph Overlap\n",
    "def overlap(a,b,min_length = 3):\n",
    "    start = 0\n",
    "    while True:\n",
    "        start = a.find(b[:min_length],start)\n",
    "        if start == -1:\n",
    "            return 0\n",
    "        if b.startswith(a[start:]):\n",
    "            return len(a) - start\n",
    "        start = start + 1\n"
   ]
  },
  {
   "cell_type": "code",
   "execution_count": 7,
   "metadata": {},
   "outputs": [
    {
     "data": {
      "text/plain": [
       "4"
      ]
     },
     "execution_count": 7,
     "metadata": {},
     "output_type": "execute_result"
    }
   ],
   "source": [
    "overlap(\"AAATTTT\",\"TTTTCCC\")"
   ]
  },
  {
   "cell_type": "code",
   "execution_count": null,
   "metadata": {},
   "outputs": [],
   "source": []
  }
 ],
 "metadata": {
  "kernelspec": {
   "display_name": "Python 3",
   "language": "python",
   "name": "python3"
  },
  "language_info": {
   "codemirror_mode": {
    "name": "ipython",
    "version": 3
   },
   "file_extension": ".py",
   "mimetype": "text/x-python",
   "name": "python",
   "nbconvert_exporter": "python",
   "pygments_lexer": "ipython3",
   "version": "3.7.6"
  }
 },
 "nbformat": 4,
 "nbformat_minor": 4
}
