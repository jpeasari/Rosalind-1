{
 "cells": [
  {
   "cell_type": "markdown",
   "metadata": {},
   "source": [
    "## RNA Splicing\n",
    "http://rosalind.info/problems/splc/"
   ]
  },
  {
   "cell_type": "code",
   "execution_count": 4,
   "metadata": {},
   "outputs": [
    {
     "name": "stdout",
     "output_type": "stream",
     "text": [
      ">Rosalind_9925\n",
      "\n",
      "ATGCCCTTACCTGGCGTAGTACGCTGCATTTCAGTTTGAGTCCGACGGTAAAGCAAGATG\n",
      "\n",
      "TTGCCTGGAGCACGTGTGCCAATTCGCCTCTGAAGTCCTCTACTTTATAAAAAGCGGCCT\n",
      "\n",
      "GCCACTAGGTTCGAACATTGGCTCTGCTTCCAAGGTTTGACAGGTCATACAGCGGACGTC\n",
      "\n",
      "TAGTCACGGGCTTATGGATGATAGAAATATTGCAGAAGCGTTTAGCTCCGATTTACCTCG\n",
      "\n",
      "AAAAGCGGAATCTCTCTCGAGAGTTCGACGGTAACGCACCCGTACAAGTGTTTCTCATTC\n",
      "\n",
      "CGGGTTAAGAGTATAGCGCTATTATTATCGGGTCCAAAGGGACGTGTGATGTCCCGTGGA\n",
      "\n",
      "GGCCCATGCTGGGTTTGTATTATTTAGACCTCACCACTTCTCTTCCTCGCCTTTTCGCTA\n",
      "\n",
      "GTGTAAATAGCTTGCGGGCGGTTCCTTCCGACGCAAACGAGTAGAATGTAGGATACAGCT\n",
      "\n",
      "TAGAACCCGACCCTCCAACCATATTAAATTATCATCCATTACACCGCGATTAACGAGAGT\n",
      "\n",
      "CCATTTAAGTGTCAGGCTCTCGTGGTACAATCCCTGACCCATGACCGTTAACAGGAGCAT\n",
      "\n",
      "TCGCCGTACAACGCGGATCCTAGCGTGACCGTACTAAACAGCAGTCATTAATCTCGAATG\n",
      "\n",
      "AATAGCGTTTGCCTAACATAAGCCGCCTCAAAGTTTCCACTCTGCGTACTGCGTATAGAG\n",
      "\n",
      "AACGGAGTACGATCCCGTGCATGCTACTTCGAATTTGTTATTCCGAACATGGCTTGAATA\n",
      "\n",
      "ATGCGATTACATCAGGGCGCTATCAAACAAATACCGTGCCATTGAGCCGCCGATGGCGGC\n",
      "\n",
      "GAAGTTCGTAACCCGCCCGAGTCTGAACCGACACTTGTCGACTATGTCGTATATATCTCT\n",
      "\n",
      "GGCAAACACTGACGGCAATCGAGAGAATCTCCCACTCGACCCTACCATAGTTACAATGCG\n",
      "\n",
      "ACGTACCATCTCATTAGGTTGGACTAG\n",
      "\n",
      ">Rosalind_5477\n",
      "\n",
      "AATCGAGAGAATCTCCCACT\n",
      "\n",
      ">Rosalind_5202\n",
      "\n",
      "CGGGCGGTTCCTTCCGACGCAAACGAGTAGAAT\n",
      "\n",
      ">Rosalind_9784\n",
      "\n",
      "CGAGAGTTCGACGGTA\n",
      "\n",
      ">Rosalind_6139\n",
      "\n",
      "CGGCGAAGTTCGTAACCCGCCCGAGTCTGAACCGACACTTG\n",
      "\n",
      ">Rosalind_2242\n",
      "\n",
      "TAAAAAGCGGCCTG\n",
      "\n",
      ">Rosalind_5943\n",
      "\n",
      "TGTCAGGCTCTCGTGGTACAATCCCTGACCCATG\n",
      "\n",
      ">Rosalind_8654\n",
      "\n",
      "TGACCGTACTAAACAGCAGTCATTAATCTCGAATGAATAG\n",
      "\n",
      ">Rosalind_9479\n",
      "\n",
      "GACCCTCCAACCATATTAA\n",
      "\n",
      ">Rosalind_9945\n",
      "\n",
      "TTAGCTCCGATT\n",
      "\n",
      ">Rosalind_0715\n",
      "\n",
      "AGTACGATCCCGT\n",
      "\n",
      ">Rosalind_6589\n",
      "\n",
      "AACATGGCTTG\n",
      "\n",
      ">Rosalind_3225\n",
      "\n",
      "TTGTATTATTTAGACCTCACCACT\n",
      "\n",
      ">Rosalind_8298\n",
      "\n",
      "TCAGTTTGAGTCCGACG\n",
      "\n",
      ">Rosalind_3684\n",
      "\n",
      "GCTTCCAAGGTTTGAC\n",
      "\n",
      ">Rosalind_8462\n",
      "\n",
      "CGGGTTAAGAGTATAGCGCTATTATTATCGGGTCCAAAGGG\n",
      "\n"
     ]
    }
   ],
   "source": [
    "### Reading the dataset file\n",
    "file = open(\"rosalind_splc_1.txt\",\"r\")\n",
    "for line in file:\n",
    "    print(line)"
   ]
  },
  {
   "cell_type": "code",
   "execution_count": 45,
   "metadata": {},
   "outputs": [
    {
     "name": "stdout",
     "output_type": "stream",
     "text": [
      "DNA Template Sequence: ATGCCCTTACCTGGCGTAGTACGCTGCATTTCAGTTTGAGTCCGACGGTAAAGCAAGATGTTGCCTGGAGCACGTGTGCCAATTCGCCTCTGAAGTCCTCTACTTTATAAAAAGCGGCCTGCCACTAGGTTCGAACATTGGCTCTGCTTCCAAGGTTTGACAGGTCATACAGCGGACGTCTAGTCACGGGCTTATGGATGATAGAAATATTGCAGAAGCGTTTAGCTCCGATTTACCTCGAAAAGCGGAATCTCTCTCGAGAGTTCGACGGTAACGCACCCGTACAAGTGTTTCTCATTCCGGGTTAAGAGTATAGCGCTATTATTATCGGGTCCAAAGGGACGTGTGATGTCCCGTGGAGGCCCATGCTGGGTTTGTATTATTTAGACCTCACCACTTCTCTTCCTCGCCTTTTCGCTAGTGTAAATAGCTTGCGGGCGGTTCCTTCCGACGCAAACGAGTAGAATGTAGGATACAGCTTAGAACCCGACCCTCCAACCATATTAAATTATCATCCATTACACCGCGATTAACGAGAGTCCATTTAAGTGTCAGGCTCTCGTGGTACAATCCCTGACCCATGACCGTTAACAGGAGCATTCGCCGTACAACGCGGATCCTAGCGTGACCGTACTAAACAGCAGTCATTAATCTCGAATGAATAGCGTTTGCCTAACATAAGCCGCCTCAAAGTTTCCACTCTGCGTACTGCGTATAGAGAACGGAGTACGATCCCGTGCATGCTACTTCGAATTTGTTATTCCGAACATGGCTTGAATAATGCGATTACATCAGGGCGCTATCAAACAAATACCGTGCCATTGAGCCGCCGATGGCGGCGAAGTTCGTAACCCGCCCGAGTCTGAACCGACACTTGTCGACTATGTCGTATATATCTCTGGCAAACACTGACGGCAATCGAGAGAATCTCCCACTCGACCCTACCATAGTTACAATGCGACGTACCATCTCATTAGGTTGGACTAG\n",
      "Intron Sequences: ['AATCGAGAGAATCTCCCACT', 'CGGGCGGTTCCTTCCGACGCAAACGAGTAGAAT', 'CGAGAGTTCGACGGTA', 'CGGCGAAGTTCGTAACCCGCCCGAGTCTGAACCGACACTTG', 'TAAAAAGCGGCCTG', 'TGTCAGGCTCTCGTGGTACAATCCCTGACCCATG', 'TGACCGTACTAAACAGCAGTCATTAATCTCGAATGAATAG', 'GACCCTCCAACCATATTAA', 'TTAGCTCCGATT', 'AGTACGATCCCGT', 'AACATGGCTTG', 'TTGTATTATTTAGACCTCACCACT', 'TCAGTTTGAGTCCGACG', 'GCTTCCAAGGTTTGAC', 'CGGGTTAAGAGTATAGCGCTATTATTATCGGGTCCAAAGGG']\n",
      "DNA Seq with no introns: ATGCCCTTACCTGGCGTAGTACGCTGCATTGTAAAGCAAGATGTTGCCTGGAGCACGTGTGCCAATTCGCCTCTGAAGTCCTCTACTTTACCACTAGGTTCGAACATTGGCTCTAGGTCATACAGCGGACGTCTAGTCACGGGCTTATGGATGATAGAAATATTGCAGAAGCGTTACCTCGAAAAGCGGAATCTCTCTACGCACCCGTACAAGTGTTTCTCATTCACGTGTGATGTCCCGTGGAGGCCCATGCTGGGTTCTCTTCCTCGCCTTTTCGCTAGTGTAAATAGCTTGGTAGGATACAGCTTAGAACCCATTATCATCCATTACACCGCGATTAACGAGAGTCCATTTAAGACCGTTAACAGGAGCATTCGCCGTACAACGCGGATCCTAGCGCGTTTGCCTAACATAAGCCGCCTCAAAGTTTCCACTCTGCGTACTGCGTATAGAGAACGGGCATGCTACTTCGAATTTGTTATTCCGAATAATGCGATTACATCAGGGCGCTATCAAACAAATACCGTGCCATTGAGCCGCCGATGGTCGACTATGTCGTATATATCTCTGGCAAACACTGACGGCCGACCCTACCATAGTTACAATGCGACGTACCATCTCATTAGGTTGGACTAG\n",
      "RNA Seq with no introns: AUGCCCUUACCUGGCGUAGUACGCUGCAUUGUAAAGCAAGAUGUUGCCUGGAGCACGUGUGCCAAUUCGCCUCUGAAGUCCUCUACUUUACCACUAGGUUCGAACAUUGGCUCUAGGUCAUACAGCGGACGUCUAGUCACGGGCUUAUGGAUGAUAGAAAUAUUGCAGAAGCGUUACCUCGAAAAGCGGAAUCUCUCUACGCACCCGUACAAGUGUUUCUCAUUCACGUGUGAUGUCCCGUGGAGGCCCAUGCUGGGUUCUCUUCCUCGCCUUUUCGCUAGUGUAAAUAGCUUGGUAGGAUACAGCUUAGAACCCAUUAUCAUCCAUUACACCGCGAUUAACGAGAGUCCAUUUAAGACCGUUAACAGGAGCAUUCGCCGUACAACGCGGAUCCUAGCGCGUUUGCCUAACAUAAGCCGCCUCAAAGUUUCCACUCUGCGUACUGCGUAUAGAGAACGGGCAUGCUACUUCGAAUUUGUUAUUCCGAAUAAUGCGAUUACAUCAGGGCGCUAUCAAACAAAUACCGUGCCAUUGAGCCGCCGAUGGUCGACUAUGUCGUAUAUAUCUCUGGCAAACACUGACGGCCGACCCUACCAUAGUUACAAUGCGACGUACCAUCUCAUUAGGUUGGACUAG\n"
     ]
    }
   ],
   "source": [
    "file = open(\"rosalind_splc_1.txt\",\"r\")\n",
    "intron_sequences = []\n",
    "sequence = \"\"\n",
    "c=[]\n",
    "Sequences_fasta=[] \n",
    "\n",
    "for line in file:\n",
    "    if line[0] != '>':\n",
    "        sequence = sequence + line.strip()\n",
    "    elif line[0] == '>' and sequence != '':\n",
    "        Sequences_fasta.append(sequence)\n",
    "        sequence = \"\"\n",
    "DNA_String = Sequences_fasta[0] \n",
    "print(\"DNA Template Sequence:\",DNA_String)\n",
    "\n",
    "Sequences_fasta.append(sequence)\n",
    "intron_sequences = Sequences_fasta[1:]\n",
    "print(\"Intron Sequences:\",intron_sequences)\n",
    "\n",
    "for j in intron_sequences:\n",
    "    if j in DNA_String:\n",
    "        DNA_String=DNA_String.replace(j,\"\")\n",
    "print(\"DNA Seq with no introns:\",DNA_String)  \n",
    "        \n",
    "DNA_String = DNA_String.replace(\"T\", \"U\")\n",
    "print(\"RNA Seq with no introns:\",DNA_String)\n"
   ]
  },
  {
   "cell_type": "code",
   "execution_count": 46,
   "metadata": {},
   "outputs": [],
   "source": [
    "## Extracting condon sequences ( length =3 ) from the RNA Sequence using list comprehension\n",
    "codons = [DNA_String[i:i+3] for i in range(0, len(DNA_String), 3)] "
   ]
  },
  {
   "cell_type": "code",
   "execution_count": 47,
   "metadata": {},
   "outputs": [],
   "source": [
    "## Dictionary containing all the 64 codons in genetic code\n",
    "table = {'AUA':'I', 'AUC':'I', 'AUU':'I', 'AUG':'M', \n",
    "        'ACA':'T', 'ACC':'T', 'ACG':'T', 'ACU':'T', \n",
    "        'AAC':'N', 'AAU':'N', 'AAA':'K', 'AAG':'K', \n",
    "        'AGC':'S', 'AGU':'S', 'AGA':'R', 'AGG':'R',                  \n",
    "        'CUA':'L', 'CUC':'L', 'CUG':'L', 'CUU':'L', \n",
    "        'CCA':'P', 'CCC':'P', 'CCG':'P', 'CCU':'P', \n",
    "        'CAC':'H', 'CAU':'H', 'CAA':'Q', 'CAG':'Q', \n",
    "        'CGA':'R', 'CGC':'R', 'CGG':'R', 'CGU':'R', \n",
    "        'GUA':'V', 'GUC':'V', 'GUG':'V', 'GUU':'V', \n",
    "        'GCA':'A', 'GCC':'A', 'GCG':'A', 'GCU':'A', \n",
    "        'GAC':'D', 'GAU':'D', 'GAA':'E', 'GAG':'E', \n",
    "        'GGA':'G', 'GGC':'G', 'GGG':'G', 'GGU':'G', \n",
    "        'UCA':'S', 'UCC':'S', 'UCG':'S', 'UCU':'S', \n",
    "        'UUC':'F', 'UUU':'F', 'UUA':'L', 'UUG':'L', \n",
    "        'UAC':'Y', 'UAU':'Y', 'UAA':'_', 'UAG':'_', \n",
    "        'UGC':'C', 'UGU':'C', 'UGA':'_', 'UGG':'W', }"
   ]
  },
  {
   "cell_type": "code",
   "execution_count": 48,
   "metadata": {},
   "outputs": [
    {
     "name": "stdout",
     "output_type": "stream",
     "text": [
      "MPLPGVVRCIVKQDVAWSTCANSPLKSSTLPLGSNIGSRSYSGRLVTGLWMIEILQKRYLEKRNLSTHPYKCFSFTCDVPWRPMLGSLPRLFASVNSLVGYSLEPIIIHYTAINESPFKTVNRSIRRTTRILARLPNISRLKVSTLRTAYRERACYFEFVIPNNAITSGRYQTNTVPLSRRWSTMSYISLANTDGRPYHSYNATYHLIRLD_\n"
     ]
    }
   ],
   "source": [
    "### Identifying amino acids in the RNA sequence from list of codons in the dictionary\n",
    "seq = \"\"\n",
    "for i in range(len(codons)):\n",
    "    for key,value in table.items():\n",
    "        if codons[i] == key:\n",
    "            seq = seq + value\n",
    "print(seq)  ### Printing corresponding amino acids in the RNA Seq"
   ]
  },
  {
   "cell_type": "code",
   "execution_count": null,
   "metadata": {},
   "outputs": [],
   "source": []
  },
  {
   "cell_type": "code",
   "execution_count": null,
   "metadata": {},
   "outputs": [],
   "source": []
  }
 ],
 "metadata": {
  "kernelspec": {
   "display_name": "Python 3",
   "language": "python",
   "name": "python3"
  },
  "language_info": {
   "codemirror_mode": {
    "name": "ipython",
    "version": 3
   },
   "file_extension": ".py",
   "mimetype": "text/x-python",
   "name": "python",
   "nbconvert_exporter": "python",
   "pygments_lexer": "ipython3",
   "version": "3.7.6"
  }
 },
 "nbformat": 4,
 "nbformat_minor": 4
}
