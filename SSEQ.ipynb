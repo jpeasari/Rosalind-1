{
 "cells": [
  {
   "cell_type": "markdown",
   "metadata": {},
   "source": [
    "## Finding a SLiced Motif\n",
    "http://rosalind.info/problems/sseq/"
   ]
  },
  {
   "cell_type": "code",
   "execution_count": 8,
   "metadata": {},
   "outputs": [
    {
     "name": "stdout",
     "output_type": "stream",
     "text": [
      "['ACGTACGTGACG', 'GTA']\n"
     ]
    }
   ],
   "source": [
    "file = open(\"spliced_motif.txt\",\"r\")\n",
    "only_sequence_list = [] ## Empty list to store only the sequences\n",
    "sequence_string = ''  ## Empty string\n",
    "for line in file:\n",
    "    if line[0] == '>': ## If first letter in every line is \">\"\n",
    "        if sequence_string != '': ## Checking if the string is not empty\n",
    "            only_sequence_list.append(sequence_string)\n",
    "#             print(only_sequence_list)\n",
    "            sequence_string = '' \n",
    "        else:\n",
    "            pass\n",
    "    else:\n",
    "        sequence_string = sequence_string + line.strip('\\n') ## If string is not equal to empty, then the line to empty string\n",
    "only_sequence_list.append(sequence_string)\n",
    "        \n",
    "print(only_sequence_list)"
   ]
  },
  {
   "cell_type": "code",
   "execution_count": 14,
   "metadata": {},
   "outputs": [
    {
     "name": "stdout",
     "output_type": "stream",
     "text": [
      "3 4 5\n",
      "3 4 5\n",
      "3 4 5\n",
      "7 8 10\n",
      "7 8 10\n",
      "7 8 10\n",
      "7 8 10\n"
     ]
    }
   ],
   "source": [
    "S = only_sequence_list[0]\n",
    "s = only_sequence_list[1]\n",
    "for start in range(len(S)):\n",
    "    locations = [0]*len(s)\n",
    "    find = 0\n",
    "    for now in range(start,len(S)):\n",
    "        if S[now] == s[find]:\n",
    "            locations[find] = str(now+1)\n",
    "            find += 1\n",
    "            if find >= len(s):\n",
    "                break\n",
    "    if locations[-1] != 0:\n",
    "        print(' '.join(locations))"
   ]
  },
  {
   "cell_type": "code",
   "execution_count": 18,
   "metadata": {},
   "outputs": [
    {
     "name": "stdout",
     "output_type": "stream",
     "text": [
      "3 4 5\n"
     ]
    }
   ],
   "source": [
    "dna = only_sequence_list[0]\n",
    "sub_seq =  only_sequence_list[1]\n",
    "sseq_indicies, i = [], 0\n",
    "for nucleotide in sub_seq:\n",
    "    while dna[i] != nucleotide:\n",
    "        i += 1\n",
    "    sseq_indicies.append(str(i+1))\n",
    "    i += 1\n",
    "\n",
    "print(' '.join(sseq_indicies))"
   ]
  },
  {
   "cell_type": "code",
   "execution_count": null,
   "metadata": {},
   "outputs": [],
   "source": []
  },
  {
   "cell_type": "code",
   "execution_count": null,
   "metadata": {},
   "outputs": [],
   "source": []
  },
  {
   "cell_type": "code",
   "execution_count": null,
   "metadata": {},
   "outputs": [],
   "source": []
  },
  {
   "cell_type": "code",
   "execution_count": null,
   "metadata": {},
   "outputs": [],
   "source": []
  },
  {
   "cell_type": "code",
   "execution_count": null,
   "metadata": {},
   "outputs": [],
   "source": []
  },
  {
   "cell_type": "code",
   "execution_count": null,
   "metadata": {},
   "outputs": [],
   "source": []
  },
  {
   "cell_type": "code",
   "execution_count": 16,
   "metadata": {},
   "outputs": [
    {
     "name": "stdout",
     "output_type": "stream",
     "text": [
      "3 4 5 \n"
     ]
    }
   ],
   "source": [
    "dna_sequence = only_sequence_list[0]\n",
    "motif = only_sequence_list[1]\n",
    "\n",
    "\n",
    "indices = \"\"\n",
    "dna_index = 0\n",
    "motif_index = 0\n",
    "\n",
    "#Iterate through the DNA\n",
    "for base in dna_sequence:\n",
    "    \n",
    "    #If current base is equal to the `current` base in the motif\n",
    "    #By current I mean the latest base we are looking for\n",
    "    if base == motif[motif_index]:\n",
    "        \n",
    "        motif_index += 1\n",
    "        #`dna_index + 1` is because question assumes first index is 1\n",
    "        indices += str(dna_index + 1) + \" \"\n",
    "        \n",
    "        #If we are out of motif base then done\n",
    "        if motif_index == len(motif):\n",
    "            break\n",
    "        \n",
    "    dna_index += 1\n",
    "print(indices)"
   ]
  },
  {
   "cell_type": "code",
   "execution_count": null,
   "metadata": {},
   "outputs": [],
   "source": []
  },
  {
   "cell_type": "code",
   "execution_count": null,
   "metadata": {},
   "outputs": [],
   "source": []
  }
 ],
 "metadata": {
  "kernelspec": {
   "display_name": "Python 3",
   "language": "python",
   "name": "python3"
  },
  "language_info": {
   "codemirror_mode": {
    "name": "ipython",
    "version": 3
   },
   "file_extension": ".py",
   "mimetype": "text/x-python",
   "name": "python",
   "nbconvert_exporter": "python",
   "pygments_lexer": "ipython3",
   "version": "3.7.6"
  }
 },
 "nbformat": 4,
 "nbformat_minor": 4
}
