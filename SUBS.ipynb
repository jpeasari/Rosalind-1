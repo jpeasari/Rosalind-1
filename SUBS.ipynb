{
 "cells": [
  {
   "cell_type": "markdown",
   "metadata": {},
   "source": [
    "## Finding a Motif in DNA\n",
    "http://rosalind.info/problems/subs/"
   ]
  },
  {
   "cell_type": "code",
   "execution_count": 1,
   "metadata": {},
   "outputs": [
    {
     "name": "stdout",
     "output_type": "stream",
     "text": [
      "2 4 10\n"
     ]
    }
   ],
   "source": [
    "## PRogram for the test data\n",
    "seq = \"GATATATGCATATACTT\"\n",
    "motif = \"ATAT\"\n",
    "i = seq.find(\"ATAT\")\n",
    "\n",
    "b = seq.find(\"ATAT\", i + 1)\n",
    "c = seq.find(\"ATAT\", b + 1)\n",
    "print(i+1,b+1,c+1)\n",
    "\n"
   ]
  },
  {
   "cell_type": "code",
   "execution_count": 1,
   "metadata": {},
   "outputs": [
    {
     "name": "stdout",
     "output_type": "stream",
     "text": [
      "[  0  26  53 156 163 170 257 264 289 307 385 404 492 499 506 533 588 687\n",
      " 784 791 855]\n"
     ]
    }
   ],
   "source": [
    "## Finding motif in the dataset\n",
    "import numpy as np \n",
    "seq = \"GGATAGATTACCTTCGTACCTTCGCACCTTCGACCTTCGTTTCACCTTCGTCACCTTCGACCTTCGAACCTTCGCGCCGACGCACACCTTCGGACCTTCGGAATACCTTCGAGACCTTCGTACGACTTGCACCTTCGGACCTTCGTTTCTTCTAAACCTTCGACCTTCGACCTTCGACCTTCGGTGCTGTAAGACCTTCGGATTATCCACAACCTTCGGTAACCACCTTCGATACCTTCGCCAACCTTCGATAGTCACCTTCGACCTTCGACCTTCGCCATACCCACTACCTTCGACCTTCGAAGGACCTTCGACCTTCGGACCTTCGGACCTTCGTCGCTTTACCTTCGGGACACCTTCGCCACCTTCGTTTATGGAGGCACTACCTTCGACCTTCGGAAGGACCTTCGACCTTCGTTCCACCTTCGCCACCTTCGGGAGGACCTTCGGCTTACCTTCGGAAGCGCATTCCGGTGGCACCTTCGCCAGTGACCTTCGACCTTCGACCTTCGACACCTTCGGGACCTTCGGCACCTTCGACCTTCGTATTTGCCACCTTCGAGTGCACCTTCGAGACCACCTTCGGTACCTTCGACCTTCGGTGAACCTTCGTACCTTCGCGGTGTGACCTTCGGGGATGATACCTTCGTTAACCTTCGCGTTATTGCAACCTTCGGCACCTTCGAACCTTCGACCTTCGAATACCTTCGAACCTATTCGACTACCTTCGTACCTTCGGGTGCCGGTACCATCCAGGACCTTCGAACCTTCGGAAACCTTCGAACCTTCGACCTTCGACCTTCGTCCTGACCTTCGTAACTCATAAAACCTTCGTACCTTCGTGCACCTTCGTCACCTTCGACCTTCG\"\n",
    "motif = \"ACCTTCGAC\"\n",
    "x = []\n",
    "for j in range(len(seq)):\n",
    "    b = seq.find(\"ACCTTCGAC\",j)\n",
    "    x.append(b+1)\n",
    "    y = np.array(x) \n",
    "\n",
    "print(np.unique(y)) ## Getting unique values from the list\n",
    "\n",
    "    "
   ]
  },
  {
   "cell_type": "code",
   "execution_count": 10,
   "metadata": {},
   "outputs": [
    {
     "name": "stdout",
     "output_type": "stream",
     "text": [
      "26\n"
     ]
    }
   ],
   "source": [
    "import numpy as np \n",
    "seq = \"GGATAGATTACCTTCGTACCTTCGCACCTTCGACCTTCGTTTCACCTTCGTCACCTTCGACCTTCGAACCTTCGCGCCGACGCACACCTTCGGACCTTCGGAATACCTTCGAGACCTTCGTACGACTTGCACCTTCGGACCTTCGTTTCTTCTAAACCTTCGACCTTCGACCTTCGACCTTCGGTGCTGTAAGACCTTCGGATTATCCACAACCTTCGGTAACCACCTTCGATACCTTCGCCAACCTTCGATAGTCACCTTCGACCTTCGACCTTCGCCATACCCACTACCTTCGACCTTCGAAGGACCTTCGACCTTCGGACCTTCGGACCTTCGTCGCTTTACCTTCGGGACACCTTCGCCACCTTCGTTTATGGAGGCACTACCTTCGACCTTCGGAAGGACCTTCGACCTTCGTTCCACCTTCGCCACCTTCGGGAGGACCTTCGGCTTACCTTCGGAAGCGCATTCCGGTGGCACCTTCGCCAGTGACCTTCGACCTTCGACCTTCGACACCTTCGGGACCTTCGGCACCTTCGACCTTCGTATTTGCCACCTTCGAGTGCACCTTCGAGACCACCTTCGGTACCTTCGACCTTCGGTGAACCTTCGTACCTTCGCGGTGTGACCTTCGGGGATGATACCTTCGTTAACCTTCGCGTTATTGCAACCTTCGGCACCTTCGAACCTTCGACCTTCGAATACCTTCGAACCTATTCGACTACCTTCGTACCTTCGGGTGCCGGTACCATCCAGGACCTTCGAACCTTCGGAAACCTTCGAACCTTCGACCTTCGACCTTCGTCCTGACCTTCGTAACTCATAAAACCTTCGTACCTTCGTGCACCTTCGTCACCTTCGACCTTCG\"\n",
    "motif = \"ACCTTCGAC\"\n",
    "x = []\n",
    "b = seq.find(\"ACCTTCGAC\",0,len(seq))\n",
    "x.append(b+1)\n",
    "print(b+1)"
   ]
  },
  {
   "cell_type": "code",
   "execution_count": null,
   "metadata": {},
   "outputs": [],
   "source": []
  },
  {
   "cell_type": "code",
   "execution_count": null,
   "metadata": {},
   "outputs": [],
   "source": []
  }
 ],
 "metadata": {
  "kernelspec": {
   "display_name": "Python 3",
   "language": "python",
   "name": "python3"
  },
  "language_info": {
   "codemirror_mode": {
    "name": "ipython",
    "version": 3
   },
   "file_extension": ".py",
   "mimetype": "text/x-python",
   "name": "python",
   "nbconvert_exporter": "python",
   "pygments_lexer": "ipython3",
   "version": "3.7.6"
  }
 },
 "nbformat": 4,
 "nbformat_minor": 4
}
