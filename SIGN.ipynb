{
 "cells": [
  {
   "cell_type": "markdown",
   "metadata": {},
   "source": [
    "## Enumerating Oriented Gene Orderings\n",
    "http://rosalind.info/problems/sign/"
   ]
  },
  {
   "cell_type": "code",
   "execution_count": null,
   "metadata": {},
   "outputs": [],
   "source": [
    "from itertools import product, permutations\n",
    "# from past.builtins import xrange\n",
    "# data = open(\"sign_gene_order.txt\",\"r\")\n",
    "# n = int(data.read())\n",
    "n = int(input(\"Enter a positive integer <= 6: \"))\n",
    "\n",
    "positive_negative_signs= [] # For storing positve and negative numbers\n",
    "\n",
    "for i in range(1, n+1):\n",
    "    positive_negative_signs.append([-1*i,i]) # Making one positive and one negative number for each number\n",
    "print(positive_negative_signs) #Product tool computes the cartesian product of input iterables like nested for loops\n",
    "\n",
    "### Product function working\n",
    "### print list(product([1,2,3],[3,4]))\n",
    "### [(1, 3), (1, 4), (2, 3), (2, 4), (3, 3), (3, 4)]\n",
    "\n",
    "\n",
    "cartesian_product= [*map(list,list(product(*positive_negative_signs)))] \n",
    "\n",
    "x = list(product(*positive_negative_signs)) ## Working of product with map function\n",
    "print(x)\n",
    "\n",
    "print(cartesian_product) ## Converting map results to again list\n",
    "\n",
    "\n",
    "all_permutation_list = []\n",
    "for permutation in cartesian_product:\n",
    "    all_permutaions = [*map(list,list(permutations(permutation)))]  ## Finding all the permutaions of the cartesian_product\n",
    "    all_permutation_list.append(all_permutaions)\n",
    "    \n",
    "## Printing the output in the sepcified format\n",
    "\n",
    "print(*all_permutation_list, sep=\", \")\n",
    "flattened_list = []\n",
    "for x in all_permutation_list:\n",
    "    for y in x:\n",
    "        flattened_list.append(y)\n",
    "print(len(flattened_list)) # Findind the total number of signed permutations of length n\n",
    "\n",
    "\n",
    "for i in flattened_list:\n",
    "\n",
    "    print(*i)\n",
    "\n",
    "\n"
   ]
  },
  {
   "cell_type": "code",
   "execution_count": null,
   "metadata": {},
   "outputs": [],
   "source": []
  }
 ],
 "metadata": {
  "kernelspec": {
   "display_name": "Python 3",
   "language": "python",
   "name": "python3"
  },
  "language_info": {
   "codemirror_mode": {
    "name": "ipython",
    "version": 3
   },
   "file_extension": ".py",
   "mimetype": "text/x-python",
   "name": "python",
   "nbconvert_exporter": "python",
   "pygments_lexer": "ipython3",
   "version": "3.7.6"
  }
 },
 "nbformat": 4,
 "nbformat_minor": 4
}
