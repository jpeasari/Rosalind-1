{
 "cells": [
  {
   "cell_type": "markdown",
   "metadata": {},
   "source": [
    "## Finding a Shared Motif\n",
    "http://rosalind.info/problems/lcsm/"
   ]
  },
  {
   "cell_type": "code",
   "execution_count": 1,
   "metadata": {},
   "outputs": [
    {
     "name": "stdout",
     "output_type": "stream",
     "text": [
      "['GCATATTGAACTTAAAGTTGCCCCCTAAAGCAGCGGCTTCTAAGCTAAGGTAAGTCTAATTCGTGCCTAGGCCATCCGTCTTATGCCCGTAAATCGTGCTTCGCAATAAAAACCTTTATTCGACAACTTATAAACTAAGGGTATGTATGTCTCCGCTTTTTTTACTACTCAGACATGTGGTGCGCTCAATCTCGGCTATCGTGGGGTGGAAATGGGGCGGGTCAAGCGGTTCCGCCGCTGGCTGTCCTACTCCGTCGTGACACTTCCAGGTGCCTTTAGTAAGTCATTTCACGCACCGGCACTTTAGTCTGAACACTTAACCTAGGTGCACGACGTGCGCAAGGGCCCTCCCTTCGAATTCTAGCTGATAATTAACCGTATGTGCACGTGCGAATACCGGGTCCATGCACTCGAATACCAGTAAGCTTACCGGAGTTCTGCCGCTTTGAACCGAAGGCTGAGAGAAAACCCCGGACTCCTTTCTTTGCGGAGGTACCTAAGCTTTAGCAGAGCGGCAACGTGTGCTGGCTCGTATTTGTTAGCAGGTTGAGCGGCGAACCGTGGCTTTCGTCAAGCGGACGCAGTACAATTTGTACGATATAAGCCGTGAAATGGTCAAGGTGTCATTGGTGGCAACGTCGGTAGCAGGGGTTGTAATCTCTACCAATGATCACTTCTAGTGTAGACAAGGTTCACGTTAAAGATTGATCCATGTGTCGTTCGTCACCTTGAGGTTACTGGCGGCGTGGATGCCCTTTGGATCCCATACGACGGCACCCAAGGCTGAGCATCTCCTGAAT', 'TCCACTGAGGGAGCCGAGGTGC']\n"
     ]
    }
   ],
   "source": [
    "## Loading fasta file, parsing and retreving only the nucleotide seqences and neglecting all header names\n",
    "file = open(\"spliced_motif.txt\",\"r\")\n",
    "only_sequence_list = [] ## Empty list to store only the sequences\n",
    "sequence_string = ''  ## Empty string\n",
    "for line in file:\n",
    "    if line[0] == '>': ## If first letter in every line is \">\"\n",
    "        if sequence_string != '': ## Checking if the string is not empty\n",
    "            only_sequence_list.append(sequence_string)\n",
    "#             print(only_sequence_list)\n",
    "            sequence_string = '' \n",
    "        else:\n",
    "            pass\n",
    "    else:\n",
    "        sequence_string = sequence_string + line.strip('\\n') ## If string is not equal to empty, then the line to empty string\n",
    "only_sequence_list.append(sequence_string)\n",
    "        \n",
    "print(only_sequence_list)"
   ]
  },
  {
   "cell_type": "code",
   "execution_count": 2,
   "metadata": {},
   "outputs": [
    {
     "name": "stdout",
     "output_type": "stream",
     "text": [
      "4 11 21 27 31 38 44 47 49 50 54 58 63 66 67 70 74 78 85 90 96 99\n"
     ]
    }
   ],
   "source": [
    "## Collecting specific indicies of a motif in a DNA sequence\n",
    "DNA_sequence = only_sequence_list[0] ## DNA Sequence\n",
    "Motif_sequence =  only_sequence_list[1] ## Motif Sequence\n",
    "motif_indicies_DNA = [] ## Empty list store indicies of a motif bases\n",
    "i =  0 \n",
    "for base in Motif_sequence: ## Looping through individual base in the Motif sequence\n",
    "    while DNA_sequence[i] != base: ## Looping while setting condition, if a base in DNA sequence is present in Motf sequence\n",
    "        i += 1  ## Incrementing the base inside DNA Sequnce\n",
    "    motif_indicies_DNA.append(str(i+1)) ##  Typcasting the indices to string and appending to a indices list\n",
    "    i += 1 ## Incrementing a base inside Motif sequence\n",
    "\n",
    "print(' '.join(motif_indicies_DNA))"
   ]
  },
  {
   "cell_type": "code",
   "execution_count": null,
   "metadata": {},
   "outputs": [],
   "source": []
  }
 ],
 "metadata": {
  "kernelspec": {
   "display_name": "Python 3",
   "language": "python",
   "name": "python3"
  },
  "language_info": {
   "codemirror_mode": {
    "name": "ipython",
    "version": 3
   },
   "file_extension": ".py",
   "mimetype": "text/x-python",
   "name": "python",
   "nbconvert_exporter": "python",
   "pygments_lexer": "ipython3",
   "version": "3.7.6"
  }
 },
 "nbformat": 4,
 "nbformat_minor": 4
}
