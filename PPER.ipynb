{
 "cells": [
  {
   "cell_type": "markdown",
   "metadata": {},
   "source": [
    "## Partial Permutations\n",
    "http://rosalind.info/problems/pper/"
   ]
  },
  {
   "cell_type": "code",
   "execution_count": 3,
   "metadata": {},
   "outputs": [
    {
     "name": "stdout",
     "output_type": "stream",
     "text": [
      "816000\n"
     ]
    }
   ],
   "source": [
    "### Partial Permutations\n",
    "n = 81 ## Positive interger \n",
    "k = 10  ## Positive integer \n",
    "factorial=1 # Assigning 1 to factorial, which is how factorial of a number is calculated\n",
    "for i in range(k):  ## Runs upto 7 (0,1,2,3,4,5,6)\n",
    "    factorial = factorial * (n-i) ## (21-0),(21-)\n",
    "partial_permutations=factorial%1000000    \n",
    "print(partial_permutations) \n"
   ]
  },
  {
   "cell_type": "code",
   "execution_count": null,
   "metadata": {},
   "outputs": [],
   "source": []
  }
 ],
 "metadata": {
  "kernelspec": {
   "display_name": "Python 3",
   "language": "python",
   "name": "python3"
  },
  "language_info": {
   "codemirror_mode": {
    "name": "ipython",
    "version": 3
   },
   "file_extension": ".py",
   "mimetype": "text/x-python",
   "name": "python",
   "nbconvert_exporter": "python",
   "pygments_lexer": "ipython3",
   "version": "3.7.6"
  }
 },
 "nbformat": 4,
 "nbformat_minor": 4
}
