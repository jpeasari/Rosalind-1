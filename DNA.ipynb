{
 "cells": [
  {
   "cell_type": "markdown",
   "metadata": {},
   "source": [
    "## Counting DNA Nucleotides\n",
    "http://rosalind.info/problems/dna/\n",
    "    "
   ]
  },
  {
   "cell_type": "code",
   "execution_count": 1,
   "metadata": {},
   "outputs": [
    {
     "name": "stdout",
     "output_type": "stream",
     "text": [
      "20 12 17 21\n"
     ]
    }
   ],
   "source": [
    "### Counting DNA Nucleotides\n",
    "DNA = \"AGCTTTTCATTCTGACTGCAACGGGCAATATGTCTCTGTGTGGATTAAAAAAAGAGTGTCTGATAGCAGC\"\n",
    "sumA = 0\n",
    "sumT = 0\n",
    "sumG =0\n",
    "sumC = 0\n",
    "for i in DNA:\n",
    "    if i =='A':\n",
    "        sumA = sumA + 1\n",
    "for i in DNA:\n",
    "    if i =='C':\n",
    "        sumC = sumC + 1\n",
    "for i in DNA:\n",
    "    if i =='G':\n",
    "        sumG = sumG + 1\n",
    "for i in DNA:\n",
    "    if i =='T':\n",
    "        sumT = sumT + 1\n",
    "print(sumA,sumC,sumG,sumT)"
   ]
  },
  {
   "cell_type": "code",
   "execution_count": null,
   "metadata": {},
   "outputs": [],
   "source": []
  }
 ],
 "metadata": {
  "kernelspec": {
   "display_name": "Python 3",
   "language": "python",
   "name": "python3"
  },
  "language_info": {
   "codemirror_mode": {
    "name": "ipython",
    "version": 3
   },
   "file_extension": ".py",
   "mimetype": "text/x-python",
   "name": "python",
   "nbconvert_exporter": "python",
   "pygments_lexer": "ipython3",
   "version": "3.7.6"
  }
 },
 "nbformat": 4,
 "nbformat_minor": 4
}
